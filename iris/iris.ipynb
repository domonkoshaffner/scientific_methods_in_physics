{
 "cells": [
  {
   "cell_type": "code",
   "execution_count": 1,
   "metadata": {},
   "outputs": [],
   "source": [
    "import numpy as np\n",
    "import pandas as pd\n",
    "from sklearn.metrics import accuracy_score"
   ]
  },
  {
   "cell_type": "code",
   "execution_count": 2,
   "metadata": {},
   "outputs": [
    {
     "data": {
      "text/html": [
       "<div>\n",
       "<style scoped>\n",
       "    .dataframe tbody tr th:only-of-type {\n",
       "        vertical-align: middle;\n",
       "    }\n",
       "\n",
       "    .dataframe tbody tr th {\n",
       "        vertical-align: top;\n",
       "    }\n",
       "\n",
       "    .dataframe thead th {\n",
       "        text-align: right;\n",
       "    }\n",
       "</style>\n",
       "<table border=\"1\" class=\"dataframe\">\n",
       "  <thead>\n",
       "    <tr style=\"text-align: right;\">\n",
       "      <th></th>\n",
       "      <th>data1</th>\n",
       "      <th>data2</th>\n",
       "      <th>data3</th>\n",
       "      <th>data4</th>\n",
       "      <th>type</th>\n",
       "    </tr>\n",
       "  </thead>\n",
       "  <tbody>\n",
       "    <tr>\n",
       "      <th>95</th>\n",
       "      <td>6.7</td>\n",
       "      <td>3.0</td>\n",
       "      <td>5.2</td>\n",
       "      <td>2.3</td>\n",
       "      <td>Iris-virginica</td>\n",
       "    </tr>\n",
       "    <tr>\n",
       "      <th>96</th>\n",
       "      <td>6.3</td>\n",
       "      <td>2.5</td>\n",
       "      <td>5.0</td>\n",
       "      <td>1.9</td>\n",
       "      <td>Iris-virginica</td>\n",
       "    </tr>\n",
       "    <tr>\n",
       "      <th>97</th>\n",
       "      <td>6.5</td>\n",
       "      <td>3.0</td>\n",
       "      <td>5.2</td>\n",
       "      <td>2.0</td>\n",
       "      <td>Iris-virginica</td>\n",
       "    </tr>\n",
       "    <tr>\n",
       "      <th>98</th>\n",
       "      <td>6.2</td>\n",
       "      <td>3.4</td>\n",
       "      <td>5.4</td>\n",
       "      <td>2.3</td>\n",
       "      <td>Iris-virginica</td>\n",
       "    </tr>\n",
       "    <tr>\n",
       "      <th>99</th>\n",
       "      <td>5.9</td>\n",
       "      <td>3.0</td>\n",
       "      <td>5.1</td>\n",
       "      <td>1.8</td>\n",
       "      <td>Iris-virginica</td>\n",
       "    </tr>\n",
       "  </tbody>\n",
       "</table>\n",
       "</div>"
      ],
      "text/plain": [
       "    data1  data2  data3  data4            type\n",
       "95    6.7    3.0    5.2    2.3  Iris-virginica\n",
       "96    6.3    2.5    5.0    1.9  Iris-virginica\n",
       "97    6.5    3.0    5.2    2.0  Iris-virginica\n",
       "98    6.2    3.4    5.4    2.3  Iris-virginica\n",
       "99    5.9    3.0    5.1    1.8  Iris-virginica"
      ]
     },
     "execution_count": 2,
     "metadata": {},
     "output_type": "execute_result"
    }
   ],
   "source": [
    "#loading the iris matrix and the dataset\n",
    "\n",
    "X_dataset = pd.read_csv('data/iris_modif.data', names = ['data1', 'data2', 'data3', 'data4', 'type'])\n",
    "y = pd.read_csv('data/y.data')\n",
    "\n",
    "#cehcking the iris matrix\n",
    "\n",
    "X_dataset.tail()"
   ]
  },
  {
   "cell_type": "code",
   "execution_count": 3,
   "metadata": {},
   "outputs": [],
   "source": [
    "#transforming the x values\n",
    "\n",
    "X = np.array([np.array(X_dataset['data1']), np.array(X_dataset['data2']), np.array(X_dataset['data3']), np.array(X_dataset['data4'])]).T\n",
    "\n",
    "#transforming the y values\n",
    "\n",
    "y_temp = np.array(X_dataset['type'])\n",
    "\n",
    "y = []\n",
    "\n",
    "for i in range(0,len(y_temp)):\n",
    "    if y_temp[i] == 'Iris-setosa':\n",
    "        y.append(-1)\n",
    "    elif y_temp[i] == 'Iris-virginica':\n",
    "        y.append(1)\n",
    "        \n",
    "#creating test and train datasets\n",
    "\n",
    "X_train = X[::2]\n",
    "X_test = X[1::2]\n",
    "\n",
    "y_train = y[::2]\n",
    "y_test = y[1::2]"
   ]
  },
  {
   "cell_type": "code",
   "execution_count": 4,
   "metadata": {},
   "outputs": [],
   "source": [
    "#defining the prediction function\n",
    "\n",
    "def predict(X_vector, m_w):\n",
    "    \n",
    "    if net_input(X_vector, m_w) > 0:\n",
    "        return 1\n",
    "    else:\n",
    "        return -1"
   ]
  },
  {
   "cell_type": "code",
   "execution_count": 5,
   "metadata": {},
   "outputs": [],
   "source": [
    "#defining the netinput function\n",
    "\n",
    "def net_input(X_vector, m_w):\n",
    "    \n",
    "    probabilities = m_w[0]\n",
    "    \n",
    "    for i in range(0, len(X_vector)):\n",
    "        #adding the probabilites\n",
    "        #m_w[0] is the bias, already considered\n",
    "        probabilities += X_vector[i]*m_w[i+1]\n",
    "        \n",
    "    return probabilities"
   ]
  },
  {
   "cell_type": "code",
   "execution_count": 6,
   "metadata": {},
   "outputs": [],
   "source": [
    "#defining the fit function which modifies the weights\n",
    "\n",
    "def fit(X, y, epochs, eta):\n",
    "    \n",
    "    m_w = []\n",
    "    \n",
    "    #first setting eachc weights to 0\n",
    "    for i in range(0,len(X[0])+1):\n",
    "        m_w.append(0)\n",
    "        \n",
    "    #iterating through each epoch\n",
    "    for i in range(0,epochs):\n",
    "        for j in range(0,len(X)):\n",
    "            \n",
    "            update = eta * (y[j] - predict(X[j], m_w))\n",
    "            \n",
    "            for w in range(1,len(m_w)):\n",
    "                m_w[w] += update * X[j][w-1]\n",
    "            \n",
    "            m_w[0] = update\n",
    "            \n",
    "    return m_w"
   ]
  },
  {
   "cell_type": "code",
   "execution_count": 11,
   "metadata": {},
   "outputs": [],
   "source": [
    "#calling the prediction function and plotting the results\n",
    "\n",
    "def pred_plot(X_test, weights):\n",
    "\n",
    "    predictions = []\n",
    "\n",
    "    for i in range(0,len(X_test)):\n",
    "        predictions.append(predict(X_test[i], weights))\n",
    "        \n",
    "    acc = accuracy_score(y_test, predictions)\n",
    "\n",
    "    print('The accuracy of the prediction is: ', acc)"
   ]
  },
  {
   "cell_type": "code",
   "execution_count": 19,
   "metadata": {},
   "outputs": [
    {
     "name": "stdout",
     "output_type": "stream",
     "text": [
      "The accuracy of the prediction is:  1.0\n"
     ]
    }
   ],
   "source": [
    "#setting the variables\n",
    "\n",
    "epochs = 10\n",
    "eta = 0.1\n",
    "\n",
    "#calculating the weights\n",
    "\n",
    "weights = fit(X_train, y_train, epochs, eta)\n",
    "\n",
    "#predicting the dataset\n",
    "\n",
    "pred_plot(X_test, weights)"
   ]
  },
  {
   "cell_type": "code",
   "execution_count": null,
   "metadata": {},
   "outputs": [],
   "source": []
  }
 ],
 "metadata": {
  "kernelspec": {
   "display_name": "Python 3",
   "language": "python",
   "name": "python3"
  },
  "language_info": {
   "codemirror_mode": {
    "name": "ipython",
    "version": 3
   },
   "file_extension": ".py",
   "mimetype": "text/x-python",
   "name": "python",
   "nbconvert_exporter": "python",
   "pygments_lexer": "ipython3",
   "version": "3.7.3"
  }
 },
 "nbformat": 4,
 "nbformat_minor": 2
}
